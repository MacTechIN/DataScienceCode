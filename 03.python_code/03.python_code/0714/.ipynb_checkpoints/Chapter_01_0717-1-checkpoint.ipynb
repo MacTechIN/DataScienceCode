{
 "cells": [
  {
   "cell_type": "code",
   "execution_count": null,
   "id": "1e9f5d09",
   "metadata": {},
   "outputs": [],
   "source": []
  },
  {
   "cell_type": "markdown",
   "id": "60194325",
   "metadata": {},
   "source": [
    "# format  사용 (d: 3, s: 'python, f : 3.3133434) {를 사용하면 formating } \n",
    "## %d : 정수형 대입 \n",
    "## %f : 실수형 대입 \n",
    "## 문자1개 대입 : %c\n",
    "## 문자열 대입 : %s"
   ]
  },
  {
   "cell_type": "code",
   "execution_count": 33,
   "id": "7e7c48f8",
   "metadata": {},
   "outputs": [
    {
     "name": "stdout",
     "output_type": "stream",
     "text": [
      "one, two\n"
     ]
    }
   ],
   "source": [
    "print('%s, %s' %('one','two'))"
   ]
  },
  {
   "cell_type": "code",
   "execution_count": 3,
   "id": "e5b0da62",
   "metadata": {},
   "outputs": [
    {
     "name": "stdout",
     "output_type": "stream",
     "text": [
      "one two\n"
     ]
    }
   ],
   "source": [
    "print('{} {}'.format('one', 'two'))"
   ]
  },
  {
   "cell_type": "code",
   "execution_count": 10,
   "id": "06871892",
   "metadata": {},
   "outputs": [
    {
     "name": "stdout",
     "output_type": "stream",
     "text": [
      "two one\n"
     ]
    }
   ],
   "source": [
    "print('{1} {0}'.format('one','two'))"
   ]
  },
  {
   "cell_type": "code",
   "execution_count": 11,
   "id": "188198a2",
   "metadata": {},
   "outputs": [
    {
     "name": "stdout",
     "output_type": "stream",
     "text": [
      "   nice111\n"
     ]
    }
   ],
   "source": [
    "print('%10s' % ('nice111'))"
   ]
  },
  {
   "cell_type": "code",
   "execution_count": 12,
   "id": "28c4e2a2",
   "metadata": {},
   "outputs": [
    {
     "name": "stdout",
     "output_type": "stream",
     "text": [
      "   nice111\n"
     ]
    }
   ],
   "source": [
    "print('{:>10}'.format('nice111'))"
   ]
  },
  {
   "cell_type": "code",
   "execution_count": 13,
   "id": "fb0d1826",
   "metadata": {},
   "outputs": [
    {
     "name": "stdout",
     "output_type": "stream",
     "text": [
      "@@@nice111\n"
     ]
    }
   ],
   "source": [
    "print('{:@>10}'.format('nice111'))"
   ]
  },
  {
   "cell_type": "code",
   "execution_count": 17,
   "id": "935ab16f",
   "metadata": {},
   "outputs": [
    {
     "name": "stdout",
     "output_type": "stream",
     "text": [
      "nice111   \n"
     ]
    }
   ],
   "source": [
    "print('{:10}'.format('nice111'))"
   ]
  },
  {
   "cell_type": "code",
   "execution_count": 18,
   "id": "97cc0b30",
   "metadata": {},
   "outputs": [
    {
     "name": "stdout",
     "output_type": "stream",
     "text": [
      "nice111   \n"
     ]
    }
   ],
   "source": [
    "print('{:<10}'.format('nice111'))"
   ]
  },
  {
   "cell_type": "code",
   "execution_count": 19,
   "id": "7d39e19b",
   "metadata": {},
   "outputs": [
    {
     "name": "stdout",
     "output_type": "stream",
     "text": [
      " nice111  \n"
     ]
    }
   ],
   "source": [
    "print('{:^10}'.format('nice111'))"
   ]
  },
  {
   "cell_type": "code",
   "execution_count": 20,
   "id": "e8516347",
   "metadata": {},
   "outputs": [
    {
     "name": "stdout",
     "output_type": "stream",
     "text": [
      "%10.5s\n"
     ]
    }
   ],
   "source": [
    "print('%10.5s'.format('nice111'))"
   ]
  },
  {
   "cell_type": "code",
   "execution_count": 57,
   "id": "086b42c4",
   "metadata": {},
   "outputs": [
    {
     "name": "stdout",
     "output_type": "stream",
     "text": [
      "pythons\n"
     ]
    }
   ],
   "source": [
    "print('%.7s' % ('pythonstudy'))"
   ]
  },
  {
   "cell_type": "code",
   "execution_count": 22,
   "id": "afaa08e8",
   "metadata": {},
   "outputs": [
    {
     "name": "stdout",
     "output_type": "stream",
     "text": [
      "pytho     \n"
     ]
    }
   ],
   "source": [
    "print('{:10.5}'.format('pythonstudy'))"
   ]
  },
  {
   "cell_type": "code",
   "execution_count": 23,
   "id": "35a16383",
   "metadata": {},
   "outputs": [
    {
     "name": "stdout",
     "output_type": "stream",
     "text": [
      "pythons   \n"
     ]
    }
   ],
   "source": [
    "print('{:10.7}'.format('pythonstudy'))\n"
   ]
  },
  {
   "cell_type": "markdown",
   "id": "bdada22a",
   "metadata": {},
   "source": [
    "# Sepearator "
   ]
  },
  {
   "cell_type": "markdown",
   "id": "7805e7e8",
   "metadata": {},
   "source": [
    "## 자주사용함"
   ]
  },
  {
   "cell_type": "code",
   "execution_count": 25,
   "id": "6bef5436",
   "metadata": {},
   "outputs": [
    {
     "name": "stdout",
     "output_type": "stream",
     "text": [
      "P   Y   T   H   O   N\n"
     ]
    }
   ],
   "source": [
    "print('P','Y', 'T', 'H','O','N', sep='   ')"
   ]
  },
  {
   "cell_type": "code",
   "execution_count": 26,
   "id": "1903ad39",
   "metadata": {},
   "outputs": [
    {
     "name": "stdout",
     "output_type": "stream",
     "text": [
      "010-7777-1234\n"
     ]
    }
   ],
   "source": [
    "print('010','7777','1234', sep='-')"
   ]
  },
  {
   "cell_type": "code",
   "execution_count": 27,
   "id": "184c198d",
   "metadata": {},
   "outputs": [
    {
     "name": "stdout",
     "output_type": "stream",
     "text": [
      "pyton@gmail.com\n"
     ]
    }
   ],
   "source": [
    "print('pyton', 'gmail.com', sep='@')"
   ]
  },
  {
   "cell_type": "markdown",
   "id": "edef8d6b",
   "metadata": {},
   "source": [
    "# END 옵션"
   ]
  },
  {
   "cell_type": "code",
   "execution_count": 30,
   "id": "04bb84a9",
   "metadata": {},
   "outputs": [
    {
     "name": "stdout",
     "output_type": "stream",
     "text": [
      "Welcome to | IT News | Web Site\n"
     ]
    }
   ],
   "source": [
    "print('Welcome to', end=' | ')\n",
    "print('IT News', end=' | ')\n",
    "print('Web Site')"
   ]
  },
  {
   "cell_type": "code",
   "execution_count": 31,
   "id": "a94ee637",
   "metadata": {},
   "outputs": [
    {
     "name": "stdout",
     "output_type": "stream",
     "text": [
      "Welcome to\n",
      "IT News\n",
      "Web Site\n"
     ]
    }
   ],
   "source": [
    "print('Welcome to')\n",
    "print('IT News')\n",
    "print('Web Site')"
   ]
  },
  {
   "cell_type": "markdown",
   "id": "5f169694",
   "metadata": {},
   "source": [
    "print('Welcome to', end=' ')\n",
    "print('IT News', end=' ' )\n",
    "print('Web Site')"
   ]
  },
  {
   "cell_type": "code",
   "execution_count": 34,
   "id": "df96ea25",
   "metadata": {},
   "outputs": [
    {
     "name": "stdout",
     "output_type": "stream",
     "text": [
      "Welcome to IT News Web Site\n"
     ]
    }
   ],
   "source": [
    "print('Welcome to', end=' ')\n",
    "print('IT News', end=' ')\n",
    "print('Web Site')"
   ]
  },
  {
   "cell_type": "raw",
   "id": "ca664564",
   "metadata": {},
   "source": [
    "# 문법의 의해 이해\n",
    "# 문법을 잘 이해 할려면 ? ->>> 복습을 반드시 하라!!!\n",
    "\n",
    "# 다양한 변 수 선언법\n",
    "# 변수 할당 설명\n",
    "# Object Identity\n",
    "# 변수 네이밍 규칙\n",
    "# 예약"
   ]
  },
  {
   "cell_type": "markdown",
   "id": "7ed0aa51",
   "metadata": {},
   "source": [
    "# 기본 선언 및 출력 및 연산"
   ]
  },
  {
   "cell_type": "code",
   "execution_count": 35,
   "id": "a307d0cc",
   "metadata": {},
   "outputs": [
    {
     "name": "stdout",
     "output_type": "stream",
     "text": [
      "2400\n"
     ]
    }
   ],
   "source": [
    "n = 800\n",
    "print(n * 3)"
   ]
  },
  {
   "cell_type": "code",
   "execution_count": 36,
   "id": "eed5c141",
   "metadata": {},
   "outputs": [
    {
     "name": "stdout",
     "output_type": "stream",
     "text": [
      "<class 'int'>\n",
      "\n"
     ]
    }
   ],
   "source": [
    "# 변수의 자료형\n",
    "# int\n",
    "n = 3000\n",
    "print(type(n))\n",
    "print()"
   ]
  },
  {
   "cell_type": "code",
   "execution_count": 37,
   "id": "01a50a83",
   "metadata": {},
   "outputs": [
    {
     "name": "stdout",
     "output_type": "stream",
     "text": [
      "<class 'str'>\n"
     ]
    }
   ],
   "source": [
    "# str\n",
    "n = 'nice'\n",
    "print(type(n))"
   ]
  },
  {
   "cell_type": "code",
   "execution_count": 38,
   "id": "914ac146",
   "metadata": {},
   "outputs": [
    {
     "name": "stdout",
     "output_type": "stream",
     "text": [
      "700 700 700\n"
     ]
    }
   ],
   "source": [
    "# 동시 선언\n",
    "x = y = z = 700\n",
    "print(x, y, z)"
   ]
  },
  {
   "cell_type": "code",
   "execution_count": 39,
   "id": "8f78cbc8",
   "metadata": {},
   "outputs": [
    {
     "name": "stdout",
     "output_type": "stream",
     "text": [
      "300\n"
     ]
    }
   ],
   "source": [
    "# 선언\n",
    "n = 300\n",
    "print(n)"
   ]
  },
  {
   "cell_type": "code",
   "execution_count": 40,
   "id": "7f63f197",
   "metadata": {},
   "outputs": [
    {
     "name": "stdout",
     "output_type": "stream",
     "text": [
      "700\n"
     ]
    }
   ],
   "source": [
    "# 재선언\n",
    "n = 700\n",
    "print(n)"
   ]
  },
  {
   "cell_type": "raw",
   "id": "4c01661f",
   "metadata": {},
   "source": [
    "# 변수 값이 출력되는 과정\n",
    "# Object References\n",
    "# 변수 값 할당 상태\n",
    "# 타입에 맞는 오브젝트 생성\n",
    "# 값 생성\n",
    "# 콘솔 출력"
   ]
  },
  {
   "cell_type": "code",
   "execution_count": 42,
   "id": "7a8fb98d",
   "metadata": {},
   "outputs": [
    {
     "name": "stdout",
     "output_type": "stream",
     "text": [
      "300\n",
      "300\n"
     ]
    }
   ],
   "source": [
    "# 예시1\n",
    "print(300)\n",
    "print(int(300))"
   ]
  },
  {
   "cell_type": "code",
   "execution_count": 51,
   "id": "3329a852",
   "metadata": {},
   "outputs": [
    {
     "name": "stdout",
     "output_type": "stream",
     "text": [
      "300\n",
      "300\n"
     ]
    }
   ],
   "source": [
    "print('300')\n",
    "print(int(300))"
   ]
  },
  {
   "cell_type": "code",
   "execution_count": 52,
   "id": "248119c1",
   "metadata": {},
   "outputs": [
    {
     "name": "stdout",
     "output_type": "stream",
     "text": [
      "<class 'str'>\n",
      "300\n"
     ]
    }
   ],
   "source": [
    "print(type('300'))\n",
    "print(int(300))"
   ]
  },
  {
   "cell_type": "code",
   "execution_count": 43,
   "id": "f267be7a",
   "metadata": {},
   "outputs": [
    {
     "name": "stdout",
     "output_type": "stream",
     "text": [
      "777 <class 'int'>\n",
      "300 300\n",
      "<class 'int'> <class 'int'>\n"
     ]
    }
   ],
   "source": [
    "# 예시2\n",
    "n = 777\n",
    "print(n, type(n))\n",
    "\n",
    "# 예시3\n",
    "n = 300\n",
    "m = n\n",
    "print(m, n)\n",
    "print(type(m), type(n))\n",
    "\n"
   ]
  },
  {
   "cell_type": "code",
   "execution_count": 55,
   "id": "ead5a01d",
   "metadata": {},
   "outputs": [],
   "source": [
    "#  가장 중요한 부분\n",
    "# id(identity)확인 : 객체의 고유값 확인\n",
    "\n",
    "m = 800\n",
    "n = 800"
   ]
  },
  {
   "cell_type": "code",
   "execution_count": null,
   "id": "f73819ec",
   "metadata": {},
   "outputs": [],
   "source": []
  },
  {
   "cell_type": "code",
   "execution_count": 56,
   "id": "f504870c",
   "metadata": {},
   "outputs": [
    {
     "name": "stdout",
     "output_type": "stream",
     "text": [
      "2302503190416\n",
      "2302503189296\n",
      "False\n"
     ]
    }
   ],
   "source": [
    "print(id(m))\n",
    "print(id(n))\n",
    "\n",
    "print(id(m) == id(n))"
   ]
  },
  {
   "cell_type": "code",
   "execution_count": 46,
   "id": "5dcca385",
   "metadata": {},
   "outputs": [],
   "source": [
    "m = 800\n",
    "n = 800\n",
    "z = 800\n",
    "i = 800\n",
    "#m = n = z= i = 800"
   ]
  },
  {
   "cell_type": "code",
   "execution_count": 47,
   "id": "7ffd4676",
   "metadata": {},
   "outputs": [
    {
     "name": "stdout",
     "output_type": "stream",
     "text": [
      "2302503189072\n",
      "2302503186352\n",
      "2302503188624\n",
      "2302503189744\n",
      "False\n"
     ]
    }
   ],
   "source": [
    "print(id(m))\n",
    "print(id(n))\n",
    "print(id(z))\n",
    "print(id(i))\n",
    "print(id(m) == id(n))"
   ]
  },
  {
   "cell_type": "code",
   "execution_count": 48,
   "id": "0737e657",
   "metadata": {},
   "outputs": [
    {
     "name": "stdout",
     "output_type": "stream",
     "text": [
      "3\n",
      "3\n"
     ]
    }
   ],
   "source": [
    "# 다양한 변수 선언\n",
    "# Camel Case : numberofCoLLegeGraduates -> Method\n",
    "# Pascal Case : NumberofcoLLegegraduates -> class\n",
    "# Snake Case : number_of_college_graduates\n",
    "\n",
    "NumberofcoLLegegraduates = 3\n",
    "print(NumberofcoLLegegraduates)\n",
    "\n",
    "number_of_college_graduates = 3\n",
    "print(number_of_college_graduates)"
   ]
  },
  {
   "cell_type": "code",
   "execution_count": 49,
   "id": "ca5e06c4",
   "metadata": {},
   "outputs": [],
   "source": [
    "# 허용하는 변수 선언 법\n",
    "age = 1\n",
    "Age = 2\n",
    "aGe = 3\n",
    "AGE = 4\n",
    "a_g_e = 5\n",
    "_age = 6\n",
    "age_ = 7\n",
    "_AGE_ = 8\n",
    "# 1AGE  = 7\n",
    "# samil_seungmin"
   ]
  },
  {
   "cell_type": "code",
   "execution_count": 50,
   "id": "e17f2112",
   "metadata": {},
   "outputs": [],
   "source": [
    "#  예약어는 변수명으로 불가능\n",
    "\n",
    "# if for def raise\n",
    "# None del import return\n",
    "# and while as except with breakpoint\n",
    "# class from or and\n",
    "# continue pass elif\n",
    "#     pass"
   ]
  },
  {
   "cell_type": "markdown",
   "id": "2da25191",
   "metadata": {},
   "source": [
    "## Indexing , Slicing "
   ]
  },
  {
   "cell_type": "code",
   "execution_count": 58,
   "id": "76e7dfa3",
   "metadata": {},
   "outputs": [],
   "source": [
    "str = 'pythonstudy'"
   ]
  },
  {
   "cell_type": "code",
   "execution_count": 59,
   "id": "669a2e7a",
   "metadata": {},
   "outputs": [
    {
     "data": {
      "text/plain": [
       "'p'"
      ]
     },
     "execution_count": 59,
     "metadata": {},
     "output_type": "execute_result"
    }
   ],
   "source": [
    "str[0]"
   ]
  },
  {
   "cell_type": "code",
   "execution_count": 73,
   "id": "9cf8b0e2",
   "metadata": {},
   "outputs": [],
   "source": [
    "sentence = '파이썬 하루만에 끝내보자!'"
   ]
  },
  {
   "cell_type": "code",
   "execution_count": 74,
   "id": "d9f2bdbc",
   "metadata": {},
   "outputs": [
    {
     "data": {
      "text/plain": [
       "'파이썬 하'"
      ]
     },
     "execution_count": 74,
     "metadata": {},
     "output_type": "execute_result"
    }
   ],
   "source": [
    "sentence[0:5]"
   ]
  },
  {
   "cell_type": "code",
   "execution_count": 75,
   "id": "0f9c3729",
   "metadata": {},
   "outputs": [
    {
     "name": "stdout",
     "output_type": "stream",
     "text": [
      "파이썬 하루만에 끝내보자!\n"
     ]
    }
   ],
   "source": [
    "print(sentence)"
   ]
  },
  {
   "cell_type": "code",
   "execution_count": 76,
   "id": "6ccb7e8a",
   "metadata": {},
   "outputs": [
    {
     "name": "stdout",
     "output_type": "stream",
     "text": [
      "파\n"
     ]
    }
   ],
   "source": [
    "print(sentence[0])"
   ]
  },
  {
   "cell_type": "code",
   "execution_count": 77,
   "id": "4e3e0ed3",
   "metadata": {},
   "outputs": [
    {
     "name": "stdout",
     "output_type": "stream",
     "text": [
      "!\n"
     ]
    }
   ],
   "source": [
    "print(sentence[-1])"
   ]
  },
  {
   "cell_type": "code",
   "execution_count": 78,
   "id": "ac13d873",
   "metadata": {},
   "outputs": [
    {
     "name": "stdout",
     "output_type": "stream",
     "text": [
      "끝\n"
     ]
    }
   ],
   "source": [
    "print(sentence[9])"
   ]
  },
  {
   "cell_type": "code",
   "execution_count": 79,
   "id": "11ba757a",
   "metadata": {},
   "outputs": [
    {
     "name": "stdout",
     "output_type": "stream",
     "text": [
      " \n"
     ]
    }
   ],
   "source": [
    "print(sentence[3])"
   ]
  },
  {
   "cell_type": "code",
   "execution_count": 80,
   "id": "ef18ee4c",
   "metadata": {},
   "outputs": [
    {
     "name": "stdout",
     "output_type": "stream",
     "text": [
      "끝\n"
     ]
    }
   ],
   "source": [
    "print(sentence[-5])"
   ]
  },
  {
   "cell_type": "markdown",
   "id": "2b460989",
   "metadata": {},
   "source": [
    "### 슬라이싱 \n",
    "#### 특정범위만 선택할때 "
   ]
  },
  {
   "cell_type": "code",
   "execution_count": 84,
   "id": "35f1154c",
   "metadata": {},
   "outputs": [
    {
     "name": "stdout",
     "output_type": "stream",
     "text": [
      "하루만에\n"
     ]
    }
   ],
   "source": [
    "print(sentence[4:8])"
   ]
  },
  {
   "cell_type": "code",
   "execution_count": null,
   "id": "fc5b82b5",
   "metadata": {},
   "outputs": [],
   "source": []
  },
  {
   "cell_type": "raw",
   "id": "b5f98ce2",
   "metadata": {},
   "source": [
    "0"
   ]
  },
  {
   "cell_type": "code",
   "execution_count": null,
   "id": "afd93cbb",
   "metadata": {},
   "outputs": [],
   "source": []
  }
 ],
 "metadata": {
  "kernelspec": {
   "display_name": "Python 3 (ipykernel)",
   "language": "python",
   "name": "python3"
  },
  "language_info": {
   "codemirror_mode": {
    "name": "ipython",
    "version": 3
   },
   "file_extension": ".py",
   "mimetype": "text/x-python",
   "name": "python",
   "nbconvert_exporter": "python",
   "pygments_lexer": "ipython3",
   "version": "3.11.4"
  }
 },
 "nbformat": 4,
 "nbformat_minor": 5
}
