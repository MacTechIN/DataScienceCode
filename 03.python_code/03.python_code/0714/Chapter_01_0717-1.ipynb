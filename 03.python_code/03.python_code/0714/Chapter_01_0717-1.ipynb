{
 "cells": [
  {
   "cell_type": "code",
   "execution_count": null,
   "id": "67acab3f",
   "metadata": {},
   "outputs": [],
   "source": []
  },
  {
   "cell_type": "markdown",
   "id": "8c778f28",
   "metadata": {},
   "source": [
    "# format  사용 (d: 3, s: 'python, f : 3.3133434) {를 사용하면 formating } \n",
    "## %d : 정수형 대입 \n",
    "## %f : 실수형 대입 \n",
    "## 문자1개 대입 : %c\n",
    "## 문자열 대입 : %s"
   ]
  },
  {
   "cell_type": "code",
   "execution_count": 33,
   "id": "7201e0ab",
   "metadata": {},
   "outputs": [
    {
     "name": "stdout",
     "output_type": "stream",
     "text": [
      "one, two\n"
     ]
    }
   ],
   "source": [
    "print('%s, %s' %('one','two'))"
   ]
  },
  {
   "cell_type": "code",
   "execution_count": 3,
   "id": "72babde4",
   "metadata": {},
   "outputs": [
    {
     "name": "stdout",
     "output_type": "stream",
     "text": [
      "one two\n"
     ]
    }
   ],
   "source": [
    "print('{} {}'.format('one', 'two'))"
   ]
  },
  {
   "cell_type": "code",
   "execution_count": 10,
   "id": "6ba39505",
   "metadata": {},
   "outputs": [
    {
     "name": "stdout",
     "output_type": "stream",
     "text": [
      "two one\n"
     ]
    }
   ],
   "source": [
    "print('{1} {0}'.format('one','two'))"
   ]
  },
  {
   "cell_type": "code",
   "execution_count": 11,
   "id": "97a6dab5",
   "metadata": {},
   "outputs": [
    {
     "name": "stdout",
     "output_type": "stream",
     "text": [
      "   nice111\n"
     ]
    }
   ],
   "source": [
    "print('%10s' % ('nice111'))"
   ]
  },
  {
   "cell_type": "code",
   "execution_count": 12,
   "id": "056c8669",
   "metadata": {},
   "outputs": [
    {
     "name": "stdout",
     "output_type": "stream",
     "text": [
      "   nice111\n"
     ]
    }
   ],
   "source": [
    "print('{:>10}'.format('nice111'))"
   ]
  },
  {
   "cell_type": "code",
   "execution_count": 13,
   "id": "3e8c8253",
   "metadata": {},
   "outputs": [
    {
     "name": "stdout",
     "output_type": "stream",
     "text": [
      "@@@nice111\n"
     ]
    }
   ],
   "source": [
    "print('{:@>10}'.format('nice111'))"
   ]
  },
  {
   "cell_type": "code",
   "execution_count": 17,
   "id": "cc66e91e",
   "metadata": {},
   "outputs": [
    {
     "name": "stdout",
     "output_type": "stream",
     "text": [
      "nice111   \n"
     ]
    }
   ],
   "source": [
    "print('{:10}'.format('nice111'))"
   ]
  },
  {
   "cell_type": "code",
   "execution_count": 18,
   "id": "a4753852",
   "metadata": {},
   "outputs": [
    {
     "name": "stdout",
     "output_type": "stream",
     "text": [
      "nice111   \n"
     ]
    }
   ],
   "source": [
    "print('{:<10}'.format('nice111'))"
   ]
  },
  {
   "cell_type": "code",
   "execution_count": 19,
   "id": "622e8ae9",
   "metadata": {},
   "outputs": [
    {
     "name": "stdout",
     "output_type": "stream",
     "text": [
      " nice111  \n"
     ]
    }
   ],
   "source": [
    "print('{:^10}'.format('nice111'))"
   ]
  },
  {
   "cell_type": "code",
   "execution_count": 20,
   "id": "71464358",
   "metadata": {},
   "outputs": [
    {
     "name": "stdout",
     "output_type": "stream",
     "text": [
      "%10.5s\n"
     ]
    }
   ],
   "source": [
    "print('%10.5s'.format('nice111'))"
   ]
  },
  {
   "cell_type": "code",
   "execution_count": 57,
   "id": "b3d8525b",
   "metadata": {},
   "outputs": [
    {
     "name": "stdout",
     "output_type": "stream",
     "text": [
      "pythons\n"
     ]
    }
   ],
   "source": [
    "print('%.7s' % ('pythonstudy'))"
   ]
  },
  {
   "cell_type": "code",
   "execution_count": 22,
   "id": "57d45f2b",
   "metadata": {},
   "outputs": [
    {
     "name": "stdout",
     "output_type": "stream",
     "text": [
      "pytho     \n"
     ]
    }
   ],
   "source": [
    "print('{:10.5}'.format('pythonstudy'))"
   ]
  },
  {
   "cell_type": "code",
   "execution_count": 23,
   "id": "8b4ca377",
   "metadata": {},
   "outputs": [
    {
     "name": "stdout",
     "output_type": "stream",
     "text": [
      "pythons   \n"
     ]
    }
   ],
   "source": [
    "print('{:10.7}'.format('pythonstudy'))\n"
   ]
  },
  {
   "cell_type": "markdown",
   "id": "1c5d2cd2",
   "metadata": {},
   "source": [
    "# Sepearator "
   ]
  },
  {
   "cell_type": "markdown",
   "id": "fb104c80",
   "metadata": {},
   "source": [
    "## 자주사용함"
   ]
  },
  {
   "cell_type": "code",
   "execution_count": 25,
   "id": "a6e0bd71",
   "metadata": {},
   "outputs": [
    {
     "name": "stdout",
     "output_type": "stream",
     "text": [
      "P   Y   T   H   O   N\n"
     ]
    }
   ],
   "source": [
    "print('P','Y', 'T', 'H','O','N', sep='   ')"
   ]
  },
  {
   "cell_type": "code",
   "execution_count": 26,
   "id": "c3882f81",
   "metadata": {},
   "outputs": [
    {
     "name": "stdout",
     "output_type": "stream",
     "text": [
      "010-7777-1234\n"
     ]
    }
   ],
   "source": [
    "print('010','7777','1234', sep='-')"
   ]
  },
  {
   "cell_type": "code",
   "execution_count": 27,
   "id": "e1935db6",
   "metadata": {},
   "outputs": [
    {
     "name": "stdout",
     "output_type": "stream",
     "text": [
      "pyton@gmail.com\n"
     ]
    }
   ],
   "source": [
    "print('pyton', 'gmail.com', sep='@')"
   ]
  },
  {
   "cell_type": "markdown",
   "id": "8994de60",
   "metadata": {},
   "source": [
    "# END 옵션"
   ]
  },
  {
   "cell_type": "code",
   "execution_count": 30,
   "id": "08b06ad5",
   "metadata": {},
   "outputs": [
    {
     "name": "stdout",
     "output_type": "stream",
     "text": [
      "Welcome to | IT News | Web Site\n"
     ]
    }
   ],
   "source": [
    "print('Welcome to', end=' | ')\n",
    "print('IT News', end=' | ')\n",
    "print('Web Site')"
   ]
  },
  {
   "cell_type": "code",
   "execution_count": 31,
   "id": "251750f7",
   "metadata": {},
   "outputs": [
    {
     "name": "stdout",
     "output_type": "stream",
     "text": [
      "Welcome to\n",
      "IT News\n",
      "Web Site\n"
     ]
    }
   ],
   "source": [
    "print('Welcome to')\n",
    "print('IT News')\n",
    "print('Web Site')"
   ]
  },
  {
   "cell_type": "markdown",
   "id": "494b85e5",
   "metadata": {},
   "source": [
    "print('Welcome to', end=' ')\n",
    "print('IT News', end=' ' )\n",
    "print('Web Site')"
   ]
  },
  {
   "cell_type": "code",
   "execution_count": 34,
   "id": "96d575ea",
   "metadata": {},
   "outputs": [
    {
     "name": "stdout",
     "output_type": "stream",
     "text": [
      "Welcome to IT News Web Site\n"
     ]
    }
   ],
   "source": [
    "print('Welcome to', end=' ')\n",
    "print('IT News', end=' ')\n",
    "print('Web Site')"
   ]
  },
  {
   "cell_type": "raw",
   "id": "88531587",
   "metadata": {},
   "source": [
    "# 문법의 의해 이해\n",
    "# 문법을 잘 이해 할려면 ? ->>> 복습을 반드시 하라!!!\n",
    "\n",
    "# 다양한 변 수 선언법\n",
    "# 변수 할당 설명\n",
    "# Object Identity\n",
    "# 변수 네이밍 규칙\n",
    "# 예약"
   ]
  },
  {
   "cell_type": "markdown",
   "id": "da453d55",
   "metadata": {},
   "source": [
    "# 기본 선언 및 출력 및 연산"
   ]
  },
  {
   "cell_type": "code",
   "execution_count": 35,
   "id": "dc559074",
   "metadata": {},
   "outputs": [
    {
     "name": "stdout",
     "output_type": "stream",
     "text": [
      "2400\n"
     ]
    }
   ],
   "source": [
    "n = 800\n",
    "print(n * 3)"
   ]
  },
  {
   "cell_type": "code",
   "execution_count": 36,
   "id": "54e15ced",
   "metadata": {},
   "outputs": [
    {
     "name": "stdout",
     "output_type": "stream",
     "text": [
      "<class 'int'>\n",
      "\n"
     ]
    }
   ],
   "source": [
    "# 변수의 자료형\n",
    "# int\n",
    "n = 3000\n",
    "print(type(n))\n",
    "print()"
   ]
  },
  {
   "cell_type": "code",
   "execution_count": 37,
   "id": "19ed2f65",
   "metadata": {},
   "outputs": [
    {
     "name": "stdout",
     "output_type": "stream",
     "text": [
      "<class 'str'>\n"
     ]
    }
   ],
   "source": [
    "# str\n",
    "n = 'nice'\n",
    "print(type(n))"
   ]
  },
  {
   "cell_type": "code",
   "execution_count": 38,
   "id": "52ccc6d0",
   "metadata": {},
   "outputs": [
    {
     "name": "stdout",
     "output_type": "stream",
     "text": [
      "700 700 700\n"
     ]
    }
   ],
   "source": [
    "# 동시 선언\n",
    "x = y = z = 700\n",
    "print(x, y, z)"
   ]
  },
  {
   "cell_type": "code",
   "execution_count": 39,
   "id": "3f78e6d9",
   "metadata": {},
   "outputs": [
    {
     "name": "stdout",
     "output_type": "stream",
     "text": [
      "300\n"
     ]
    }
   ],
   "source": [
    "# 선언\n",
    "n = 300\n",
    "print(n)"
   ]
  },
  {
   "cell_type": "code",
   "execution_count": 40,
   "id": "6dd5a27d",
   "metadata": {},
   "outputs": [
    {
     "name": "stdout",
     "output_type": "stream",
     "text": [
      "700\n"
     ]
    }
   ],
   "source": [
    "# 재선언\n",
    "n = 700\n",
    "print(n)"
   ]
  },
  {
   "cell_type": "raw",
   "id": "c0fe2541",
   "metadata": {},
   "source": [
    "# 변수 값이 출력되는 과정\n",
    "# Object References\n",
    "# 변수 값 할당 상태\n",
    "# 타입에 맞는 오브젝트 생성\n",
    "# 값 생성\n",
    "# 콘솔 출력"
   ]
  },
  {
   "cell_type": "code",
   "execution_count": 42,
   "id": "a7b67e5d",
   "metadata": {},
   "outputs": [
    {
     "name": "stdout",
     "output_type": "stream",
     "text": [
      "300\n",
      "300\n"
     ]
    }
   ],
   "source": [
    "# 예시1\n",
    "print(300)\n",
    "print(int(300))"
   ]
  },
  {
   "cell_type": "code",
   "execution_count": 51,
   "id": "3f98d355",
   "metadata": {},
   "outputs": [
    {
     "name": "stdout",
     "output_type": "stream",
     "text": [
      "300\n",
      "300\n"
     ]
    }
   ],
   "source": [
    "print('300')\n",
    "print(int(300))"
   ]
  },
  {
   "cell_type": "code",
   "execution_count": 52,
   "id": "67e01c7f",
   "metadata": {},
   "outputs": [
    {
     "name": "stdout",
     "output_type": "stream",
     "text": [
      "<class 'str'>\n",
      "300\n"
     ]
    }
   ],
   "source": [
    "print(type('300'))\n",
    "print(int(300))"
   ]
  },
  {
   "cell_type": "code",
   "execution_count": 43,
   "id": "949d53f9",
   "metadata": {},
   "outputs": [
    {
     "name": "stdout",
     "output_type": "stream",
     "text": [
      "777 <class 'int'>\n",
      "300 300\n",
      "<class 'int'> <class 'int'>\n"
     ]
    }
   ],
   "source": [
    "# 예시2\n",
    "n = 777\n",
    "print(n, type(n))\n",
    "\n",
    "# 예시3\n",
    "n = 300\n",
    "m = n\n",
    "print(m, n)\n",
    "print(type(m), type(n))\n",
    "\n"
   ]
  },
  {
   "cell_type": "code",
   "execution_count": 55,
   "id": "c6dfd9bc",
   "metadata": {},
   "outputs": [],
   "source": [
    "#  가장 중요한 부분\n",
    "# id(identity)확인 : 객체의 고유값 확인\n",
    "\n",
    "m = 800\n",
    "n = 800"
   ]
  },
  {
   "cell_type": "code",
   "execution_count": null,
   "id": "66ed7272",
   "metadata": {},
   "outputs": [],
   "source": []
  },
  {
   "cell_type": "code",
   "execution_count": 56,
   "id": "de2514c7",
   "metadata": {},
   "outputs": [
    {
     "name": "stdout",
     "output_type": "stream",
     "text": [
      "2302503190416\n",
      "2302503189296\n",
      "False\n"
     ]
    }
   ],
   "source": [
    "print(id(m))\n",
    "print(id(n))\n",
    "\n",
    "print(id(m) == id(n))"
   ]
  },
  {
   "cell_type": "code",
   "execution_count": 46,
   "id": "0405c48b",
   "metadata": {},
   "outputs": [],
   "source": [
    "m = 800\n",
    "n = 800\n",
    "z = 800\n",
    "i = 800\n",
    "#m = n = z= i = 800"
   ]
  },
  {
   "cell_type": "code",
   "execution_count": 47,
   "id": "db2b6434",
   "metadata": {},
   "outputs": [
    {
     "name": "stdout",
     "output_type": "stream",
     "text": [
      "2302503189072\n",
      "2302503186352\n",
      "2302503188624\n",
      "2302503189744\n",
      "False\n"
     ]
    }
   ],
   "source": [
    "print(id(m))\n",
    "print(id(n))\n",
    "print(id(z))\n",
    "print(id(i))\n",
    "print(id(m) == id(n))"
   ]
  },
  {
   "cell_type": "code",
   "execution_count": 48,
   "id": "ed911dfb",
   "metadata": {},
   "outputs": [
    {
     "name": "stdout",
     "output_type": "stream",
     "text": [
      "3\n",
      "3\n"
     ]
    }
   ],
   "source": [
    "# 다양한 변수 선언\n",
    "# Camel Case : numberofCoLLegeGraduates -> Method\n",
    "# Pascal Case : NumberofcoLLegegraduates -> class\n",
    "# Snake Case : number_of_college_graduates\n",
    "\n",
    "NumberofcoLLegegraduates = 3\n",
    "print(NumberofcoLLegegraduates)\n",
    "\n",
    "number_of_college_graduates = 3\n",
    "print(number_of_college_graduates)"
   ]
  },
  {
   "cell_type": "code",
   "execution_count": 49,
   "id": "b7a6f5bc",
   "metadata": {},
   "outputs": [],
   "source": [
    "# 허용하는 변수 선언 법\n",
    "age = 1\n",
    "Age = 2\n",
    "aGe = 3\n",
    "AGE = 4\n",
    "a_g_e = 5\n",
    "_age = 6\n",
    "age_ = 7\n",
    "_AGE_ = 8\n",
    "# 1AGE  = 7\n",
    "# samil_seungmin"
   ]
  },
  {
   "cell_type": "code",
   "execution_count": 50,
   "id": "bfdfc4e5",
   "metadata": {},
   "outputs": [],
   "source": [
    "#  예약어는 변수명으로 불가능\n",
    "\n",
    "# if for def raise\n",
    "# None del import return\n",
    "# and while as except with breakpoint\n",
    "# class from or and\n",
    "# continue pass elif\n",
    "#     pass"
   ]
  },
  {
   "cell_type": "markdown",
   "id": "b71ecd79",
   "metadata": {},
   "source": [
    "## Indexing , Slicing "
   ]
  },
  {
   "cell_type": "code",
   "execution_count": 58,
   "id": "eb346a48",
   "metadata": {},
   "outputs": [],
   "source": [
    "str = 'pythonstudy'"
   ]
  },
  {
   "cell_type": "code",
   "execution_count": 59,
   "id": "0eb1e00f",
   "metadata": {},
   "outputs": [
    {
     "data": {
      "text/plain": [
       "'p'"
      ]
     },
     "execution_count": 59,
     "metadata": {},
     "output_type": "execute_result"
    }
   ],
   "source": [
    "str[0]"
   ]
  },
  {
   "cell_type": "code",
   "execution_count": 73,
   "id": "9db64166",
   "metadata": {},
   "outputs": [],
   "source": [
    "sentence = '파이썬 하루만에 끝내보자!'"
   ]
  },
  {
   "cell_type": "code",
   "execution_count": 74,
   "id": "dd6b180c",
   "metadata": {},
   "outputs": [
    {
     "data": {
      "text/plain": [
       "'파이썬 하'"
      ]
     },
     "execution_count": 74,
     "metadata": {},
     "output_type": "execute_result"
    }
   ],
   "source": [
    "sentence[0:5]"
   ]
  },
  {
   "cell_type": "code",
   "execution_count": 75,
   "id": "217b5fd1",
   "metadata": {},
   "outputs": [
    {
     "name": "stdout",
     "output_type": "stream",
     "text": [
      "파이썬 하루만에 끝내보자!\n"
     ]
    }
   ],
   "source": [
    "print(sentence)"
   ]
  },
  {
   "cell_type": "code",
   "execution_count": 76,
   "id": "ee73d24a",
   "metadata": {},
   "outputs": [
    {
     "name": "stdout",
     "output_type": "stream",
     "text": [
      "파\n"
     ]
    }
   ],
   "source": [
    "print(sentence[0])"
   ]
  },
  {
   "cell_type": "code",
   "execution_count": 77,
   "id": "ed58bae0",
   "metadata": {},
   "outputs": [
    {
     "name": "stdout",
     "output_type": "stream",
     "text": [
      "!\n"
     ]
    }
   ],
   "source": [
    "print(sentence[-1])"
   ]
  },
  {
   "cell_type": "code",
   "execution_count": 78,
   "id": "69b802ad",
   "metadata": {},
   "outputs": [
    {
     "name": "stdout",
     "output_type": "stream",
     "text": [
      "끝\n"
     ]
    }
   ],
   "source": [
    "print(sentence[9])"
   ]
  },
  {
   "cell_type": "code",
   "execution_count": 79,
   "id": "46d774dd",
   "metadata": {},
   "outputs": [
    {
     "name": "stdout",
     "output_type": "stream",
     "text": [
      " \n"
     ]
    }
   ],
   "source": [
    "print(sentence[3])"
   ]
  },
  {
   "cell_type": "code",
   "execution_count": 80,
   "id": "a9ff58e4",
   "metadata": {},
   "outputs": [
    {
     "name": "stdout",
     "output_type": "stream",
     "text": [
      "끝\n"
     ]
    }
   ],
   "source": [
    "print(sentence[-5])"
   ]
  },
  {
   "cell_type": "markdown",
   "id": "19bc0d75",
   "metadata": {},
   "source": [
    "### 슬라이싱 \n",
    "#### 특정범위만 선택할때 "
   ]
  },
  {
   "cell_type": "code",
   "execution_count": 84,
   "id": "f9ca1629",
   "metadata": {},
   "outputs": [
    {
     "name": "stdout",
     "output_type": "stream",
     "text": [
      "하루만에\n"
     ]
    }
   ],
   "source": [
    "print(sentence[4:8])"
   ]
  },
  {
   "cell_type": "code",
   "execution_count": null,
   "id": "01c8cc5c",
   "metadata": {},
   "outputs": [],
   "source": []
  },
  {
   "cell_type": "raw",
   "id": "1c67ecb4",
   "metadata": {},
   "source": [
    "0"
   ]
  },
  {
   "cell_type": "code",
   "execution_count": 103,
   "id": "9435e351",
   "metadata": {},
   "outputs": [],
   "source": [
    " str_s1 = \"Nice Python\""
   ]
  },
  {
   "cell_type": "code",
   "execution_count": 86,
   "id": "05cff0a2",
   "metadata": {},
   "outputs": [
    {
     "name": "stdout",
     "output_type": "stream",
     "text": [
      "Nic\n"
     ]
    }
   ],
   "source": [
    "print(str_s1[0:3])"
   ]
  },
  {
   "cell_type": "code",
   "execution_count": 87,
   "id": "7f19e3d8",
   "metadata": {},
   "outputs": [
    {
     "name": "stdout",
     "output_type": "stream",
     "text": [
      "Nice P\n"
     ]
    }
   ],
   "source": [
    "print(str_s1[0:6])"
   ]
  },
  {
   "cell_type": "code",
   "execution_count": 88,
   "id": "bb1aaf32",
   "metadata": {},
   "outputs": [
    {
     "name": "stdout",
     "output_type": "stream",
     "text": [
      "Python\n"
     ]
    }
   ],
   "source": [
    "print(str_s1[5:])"
   ]
  },
  {
   "cell_type": "code",
   "execution_count": 89,
   "id": "b45fe745",
   "metadata": {},
   "outputs": [
    {
     "name": "stdout",
     "output_type": "stream",
     "text": [
      "Nice Python\n"
     ]
    }
   ],
   "source": [
    "print(str_s1[:])"
   ]
  },
  {
   "cell_type": "code",
   "execution_count": 90,
   "id": "e2d1f48c",
   "metadata": {},
   "outputs": [
    {
     "name": "stdout",
     "output_type": "stream",
     "text": [
      "Nice Pyth\n"
     ]
    }
   ],
   "source": [
    "print(str_s1[:len(str_s1)-2])"
   ]
  },
  {
   "cell_type": "code",
   "execution_count": 92,
   "id": "a64395c9",
   "metadata": {},
   "outputs": [
    {
     "name": "stdout",
     "output_type": "stream",
     "text": [
      "iy\n"
     ]
    }
   ],
   "source": [
    "print(str_s1[1:15:5])"
   ]
  },
  {
   "cell_type": "code",
   "execution_count": 93,
   "id": "978536e3",
   "metadata": {},
   "outputs": [
    {
     "name": "stdout",
     "output_type": "stream",
     "text": [
      "ython\n"
     ]
    }
   ],
   "source": [
    "print(str_s1[-5:])"
   ]
  },
  {
   "cell_type": "code",
   "execution_count": 98,
   "id": "525a9530",
   "metadata": {},
   "outputs": [
    {
     "name": "stdout",
     "output_type": "stream",
     "text": [
      "Nice P\n"
     ]
    }
   ],
   "source": [
    "print(str_s1[:-5]) \n",
    "# answer : noht"
   ]
  },
  {
   "cell_type": "code",
   "execution_count": 99,
   "id": "9bb67182",
   "metadata": {},
   "outputs": [
    {
     "name": "stdout",
     "output_type": "stream",
     "text": [
      "ce Pyt\n"
     ]
    }
   ],
   "source": [
    "print(str_s1[2:-3])"
   ]
  },
  {
   "cell_type": "code",
   "execution_count": 96,
   "id": "60b1a2de",
   "metadata": {},
   "outputs": [
    {
     "ename": "SyntaxError",
     "evalue": "invalid syntax. Perhaps you forgot a comma? (635028384.py, line 1)",
     "output_type": "error",
     "traceback": [
      "\u001b[1;36m  Cell \u001b[1;32mIn[96], line 1\u001b[1;36m\u001b[0m\n\u001b[1;33m    print(str_s1[])\u001b[0m\n\u001b[1;37m          ^\u001b[0m\n\u001b[1;31mSyntaxError\u001b[0m\u001b[1;31m:\u001b[0m invalid syntax. Perhaps you forgot a comma?\n"
     ]
    }
   ],
   "source": [
    "print(str_s1[])"
   ]
  },
  {
   "cell_type": "code",
   "execution_count": 105,
   "id": "6ddaf3a3",
   "metadata": {},
   "outputs": [
    {
     "name": "stdout",
     "output_type": "stream",
     "text": [
      "iy\n"
     ]
    }
   ],
   "source": [
    "print(str_s1[1:15:5])"
   ]
  },
  {
   "cell_type": "code",
   "execution_count": 104,
   "id": "ad7fea8c",
   "metadata": {},
   "outputs": [
    {
     "data": {
      "text/plain": [
       "2"
      ]
     },
     "execution_count": 104,
     "metadata": {},
     "output_type": "execute_result"
    }
   ],
   "source": [
    "len(str_s1[1:15:5])"
   ]
  },
  {
   "cell_type": "code",
   "execution_count": 107,
   "id": "26160188",
   "metadata": {},
   "outputs": [
    {
     "name": "stdout",
     "output_type": "stream",
     "text": [
      "ython\n"
     ]
    }
   ],
   "source": [
    "print(str_s1[-5:])"
   ]
  },
  {
   "cell_type": "code",
   "execution_count": 109,
   "id": "0020d920",
   "metadata": {},
   "outputs": [
    {
     "name": "stdout",
     "output_type": "stream",
     "text": [
      "Nice P\n"
     ]
    }
   ],
   "source": [
    "print(str_s1[:-5])"
   ]
  },
  {
   "cell_type": "code",
   "execution_count": 110,
   "id": "9df86ca9",
   "metadata": {},
   "outputs": [
    {
     "name": "stdout",
     "output_type": "stream",
     "text": [
      "ce Pyt\n"
     ]
    }
   ],
   "source": [
    "print(str_s1[2:-3])"
   ]
  },
  {
   "cell_type": "code",
   "execution_count": 112,
   "id": "14218892",
   "metadata": {},
   "outputs": [
    {
     "name": "stdout",
     "output_type": "stream",
     "text": [
      "c y\n"
     ]
    }
   ],
   "source": [
    "print(str_s1[2:-3:2])"
   ]
  },
  {
   "cell_type": "code",
   "execution_count": 114,
   "id": "4925f9f9",
   "metadata": {},
   "outputs": [
    {
     "name": "stdout",
     "output_type": "stream",
     "text": [
      "i \n"
     ]
    }
   ],
   "source": [
    "print(str_s1[1:-4:3])"
   ]
  },
  {
   "cell_type": "code",
   "execution_count": 115,
   "id": "6a2c4985",
   "metadata": {},
   "outputs": [
    {
     "name": "stdout",
     "output_type": "stream",
     "text": [
      "Nc yhn\n"
     ]
    }
   ],
   "source": [
    "print(str_s1[::2])"
   ]
  },
  {
   "cell_type": "code",
   "execution_count": 116,
   "id": "647b31d9",
   "metadata": {},
   "outputs": [
    {
     "name": "stdout",
     "output_type": "stream",
     "text": [
      "nhy cN\n"
     ]
    }
   ],
   "source": [
    "print(str_s1[::-2])"
   ]
  },
  {
   "cell_type": "code",
   "execution_count": null,
   "id": "6284ee2e",
   "metadata": {},
   "outputs": [],
   "source": []
  }
 ],
 "metadata": {
  "kernelspec": {
   "display_name": "Python 3 (ipykernel)",
   "language": "python",
   "name": "python3"
  },
  "language_info": {
   "codemirror_mode": {
    "name": "ipython",
    "version": 3
   },
   "file_extension": ".py",
   "mimetype": "text/x-python",
   "name": "python",
   "nbconvert_exporter": "python",
   "pygments_lexer": "ipython3",
   "version": "3.10.9"
  }
 },
 "nbformat": 4,
 "nbformat_minor": 5
}
